{
 "cells": [
  {
   "cell_type": "code",
   "execution_count": 1,
   "id": "24121d55-3f9c-4bea-8213-9c4ff82ccec7",
   "metadata": {},
   "outputs": [],
   "source": [
    "import os\n",
    "from openai import OpenAI\n",
    "import re\n",
    "import json\n",
    "from IPython.display import clear_output\n",
    "from IPython.display import display, Image\n",
    "import base64\n",
    "from io import BytesIO"
   ]
  },
  {
   "cell_type": "code",
   "execution_count": 2,
   "id": "9b1062ff-25b1-46ef-989b-1785cd132cd7",
   "metadata": {},
   "outputs": [],
   "source": [
    "key = 'key'\n",
    "os.environ['OPENAI_API_KEY'] = key"
   ]
  },
  {
   "cell_type": "code",
   "execution_count": 5,
   "id": "1f8c9222-d8cc-48fe-96a5-9ee77f04a065",
   "metadata": {},
   "outputs": [],
   "source": [
    "def ai_get_recipe_json(client, dish, experience, servings, allergies):\n",
    "    \"\"\"Fetches a recipe by name and experience level using AI and returns JSON.\"\"\"\n",
    "    recipe = client.chat.completions.create(\n",
    "      model=\"gpt-4o\",\n",
    "      response_format={\"type\": \"json_object\"},\n",
    "      messages=[\n",
    "        {\"role\": \"system\", \"content\": \"You are a chef, skilled at creating and finding recipes for anyone and anything designed to output JSON.\"},\n",
    "        {\"role\": \"user\", \"content\": f\"Create a recipe for {dish} for a person of {experience} experience. Include amounts of each ingredient for {servings} and avoid {allergies} due to allergies. Be sure to inlcude the name of the dish and the total time.\"}\n",
    "      ]\n",
    "    ).choices[0].message.content\n",
    "    return recipe\n",
    "\n",
    "def convert_to_json(client, recipe):\n",
    "    \"\"\"Converts existing recipe to JSON using AI.\"\"\"\n",
    "    json_recipe = client.chat.completions.create(\n",
    "      model=\"gpt-4o\",\n",
    "      response_format={\"type\": \"json_object\"},\n",
    "      messages=[\n",
    "        {\"role\": \"system\", \"content\": \"You are a recipe reader, skilled at reading recipes and converting them to JSON.\"},\n",
    "        {\"role\": \"user\", \"content\": recipe},\n",
    "        {\"role\": \"user\", \"content\": \"Convert that recipe to JSON. Include recipe name, total time, servings, and amounts for each ingredient\"}\n",
    "      ]\n",
    "    ).choices[0].message.content\n",
    "    return json_recipe\n",
    "\n",
    "def adjust_servings(client, recipe, servings):\n",
    "    \"\"\"Modifies the recipe for the new servings.\"\"\"\n",
    "    # adjust recipe\n",
    "    new_recipe = client.chat.completions.create(\n",
    "      model=\"gpt-4o\",\n",
    "      response_format={\"type\": \"json_object\"},\n",
    "      messages=[\n",
    "        {\"role\": \"system\", \"content\": \"You are an recipe reader, skilled at adjusting ingredient amounts for a different number of servings, and designed to output in JSON\"},\n",
    "        {\"role\": \"assistant\", \"content\": recipe},\n",
    "        {\"role\": \"user\", \"content\": f\"I need to make that exact recipe, but for {servings} servings. Modify the servings listed and the ingredient amounts accordingly.\"}\n",
    "      ]\n",
    "    ).choices[0].message.content\n",
    "    return new_recipe\n",
    "\n",
    "def create_grocery_list_ai(client, ingredients, have):\n",
    "    \"\"\"Creates a grocery list for ingredients that user does not have.\"\"\"\n",
    "    # load ingredient list\n",
    "    ingredients = json.loads(client.chat.completions.create(\n",
    "      model=\"gpt-4o\",\n",
    "      response_format={\"type\": \"json_object\"},\n",
    "      messages=[\n",
    "        {\"role\": \"system\", \"content\": \"You are an ingredient list reader, skilled at reading ingredient lists and converting them to JSON with ingredient-amount pairs.\"},\n",
    "        {\"role\": \"assistant\", \"content\": ingredients},\n",
    "        {\"role\": \"user\", \"content\": \"Convert that ingredient list to JSON with ingredient-value pairs\"}\n",
    "      ]\n",
    "    ).choices[0].message.content)\n",
    "\n",
    "    # check which ingredients user has\n",
    "    yes = ('y','Y','yes','Yes','YES')\n",
    "    no = ('n','N','no','No','NO')\n",
    "    for i in ingredients:\n",
    "        if i in have:\n",
    "            continue\n",
    "        while True:\n",
    "            check = input(f\"Do you have {ingredients[i]} {i} (y/n)? \")\n",
    "            if check in yes:\n",
    "                have[i] = ingredients[i]\n",
    "                break\n",
    "            elif check in no:\n",
    "                break\n",
    "            print(\"Please enter 'y' or 'n'\")\n",
    "\n",
    "    # generate grocery list\n",
    "    print(\"Generating grocery list...\")\n",
    "    list = client.chat.completions.create(\n",
    "      model=\"gpt-4o\",\n",
    "      messages=[\n",
    "        {\"role\": \"system\", \"content\": \"You are a grocery list reader, skilled at reading multiple lists and synthesizing them to make a new one.\"},\n",
    "        {\"role\": \"assistant\", \"content\": str(ingredients)},\n",
    "        {\"role\": \"user\", \"content\": f\"I have these ingredients: {str(have)}. I need these ingredients: {str(ingredients)}. Make me a grocery list of what I need but don't have, including the amount I should buy of each (1 14 oz can, 2 1lb packages, etc.).\"}\n",
    "      ]\n",
    "    ).choices[0].message.content\n",
    "    return list, have\n",
    "\n",
    "def modify_recipe_ai(client, ingredients, recipe, have, missing):\n",
    "    \"\"\"Modifies the recipe to exclude missing ingredients using AI.\"\"\"\n",
    "    # load ingredient list\n",
    "    ingredients = json.loads(client.chat.completions.create(\n",
    "      model=\"gpt-4o\",\n",
    "      response_format={\"type\": \"json_object\"},\n",
    "      messages=[\n",
    "        {\"role\": \"system\", \"content\": \"You are an ingredient list reader, skilled at reading ingredient lists and converting them to JSON with ingredient-amount pairs.\"},\n",
    "        {\"role\": \"assistant\", \"content\": ingredients},\n",
    "        {\"role\": \"user\", \"content\": \"Convert that ingredient list to JSON with ingredient-value pairs\"}\n",
    "      ]\n",
    "    ).choices[0].message.content)\n",
    "\n",
    "    # check which ingredients user is missing\n",
    "    yes = ('y','Y','yes','Yes','YES')\n",
    "    no = ('n','N','no','No','NO')\n",
    "    for i in ingredients:\n",
    "        if i in have or i in missing:\n",
    "            continue\n",
    "        while True:\n",
    "            check = input(f\"Do you have {ingredients[i]} {i} (y/n)? \")\n",
    "            if check in yes:\n",
    "                have[i] = ingredients[i]\n",
    "                break\n",
    "            elif check in no:\n",
    "                missing[i] = ingredients[i]\n",
    "                break\n",
    "            print(\"Please enter 'y' or 'n'\")\n",
    "\n",
    "    # modify recipe\n",
    "    print(\"Generating modified recipe..\", end=\"\")\n",
    "    new_recipe = client.chat.completions.create(\n",
    "      model=\"gpt-4o\",\n",
    "      response_format={\"type\": \"json_object\"},\n",
    "      messages=[\n",
    "        {\"role\": \"system\", \"content\": \"You are an accomodating chef, skilled at modifying recipes so they don't require certain ingredients, and designed to output the modified recipe in JSON.\"},\n",
    "        {\"role\": \"assistant\", \"content\": recipe},\n",
    "        {\"role\": \"user\", \"content\": f\"I like this recipe: {recipe} but I don't have these ingredients: {str(missing)}. Modify the recipe so it is similar but avoids or replaces the ingredients I don't have.\"}\n",
    "      ]\n",
    "    ).choices[0].message.content\n",
    "    return new_recipe, have, missing\n",
    "\n",
    "def new_recipe_ai(client, dish, experience, servings, allergies, recipe, missing):\n",
    "    \"\"\"Fetches a new recipe based on dislikes of old recipe by name and experience level using AI and returns JSON.\"\"\"\n",
    "    dislikes = input(\"What do you dislike about the current recipe? \")\n",
    "    print(\"Generating new recipe..\", end=\"\")\n",
    "    new_recipe = client.chat.completions.create(\n",
    "      model=\"gpt-4o\",\n",
    "      response_format={\"type\": \"json_object\"},\n",
    "      messages=[\n",
    "        {\"role\": \"system\", \"content\": \"You are a chef, skilled at creating and finding recipes for anyone and anything designed to output JSON.\"},\n",
    "        {\"role\": \"assistant\", \"content\": recipe},\n",
    "        {\"role\": \"user\", \"content\": f\"Create a recipe for {dish} for a person of {experience} experience, knowing that these were their dislikes of the previous recipe: {dislikes}. Include amounts of each ingredient for {servings} and avoid {allergies} due to allergies. Be sure to inlcude the name of the dish and the total time.\"}\n",
    "      ]\n",
    "    ).choices[0].message.content\n",
    "    return new_recipe\n",
    "\n",
    "def create_image_ai(client, name, ingredients):\n",
    "    image = client.images.generate(\n",
    "      model=\"dall-e-3\",\n",
    "      prompt=f\"Create an image of a food called '{name}'. It uses the following ingredients: {ingredients}. The image must be of the actual finished food, not of the ingredients.\",\n",
    "      style=\"natural\",\n",
    "      size=\"1024x1024\",\n",
    "      quality=\"standard\",\n",
    "      response_format=\"b64_json\",\n",
    "      n=1,\n",
    "    )\n",
    "    return image.data[0].b64_json\n",
    "\n",
    "def create_image_ai_steps(client, name, steps):\n",
    "    image = client.images.generate(\n",
    "      model=\"dall-e-3\",\n",
    "      prompt=f\"Create an image of a food called '{name}'. It is made with the following steps: {steps}. The image must be of the finished food, as it is served, not of the process. NO TEXT OR RAW INGREDIENTS IN THE IMAGE.\",\n",
    "      style=\"natural\",\n",
    "      size=\"1024x1024\",\n",
    "      quality=\"standard\",\n",
    "      response_format=\"b64_json\",\n",
    "      n=1,\n",
    "    )\n",
    "    return image.data[0].b64_json\n",
    "\n",
    "def show_image(image):    \n",
    "    # Remove the Base64 header if present\n",
    "    image = image.split(\",\")[-1]\n",
    "    \n",
    "    # Decode the Base64 string\n",
    "    image_data = base64.b64decode(image)\n",
    "    \n",
    "    # Create an in-memory binary stream\n",
    "    image_stream = BytesIO(image_data)\n",
    "    \n",
    "    # Display the image\n",
    "    display(Image(data=image_stream.read(), width=300, height=300))\n",
    "\n",
    "def print_recipe_ai(client, recipe, servings):\n",
    "    \"\"\"Prints the full recipe using AI.\"\"\"\n",
    "    # get name of recipe\n",
    "    print(\".\", end=\"\")\n",
    "    name = client.chat.completions.create(\n",
    "      model=\"gpt-4o\",\n",
    "      messages=[\n",
    "        {\"role\": \"system\", \"content\": \"You are a JSON reader, skilled at reading JSON and pulling out pieces you are asked for, whether the keys have the exact same name or not.\"},\n",
    "        {\"role\": \"assistant\", \"content\": recipe},\n",
    "        {\"role\": \"user\", \"content\": \"Give me only the name of that recipe. Remove all quotation marks and replace underscores with a space. Do not label it (eg. with 'recipe name:'.\"}\n",
    "      ]\n",
    "    ).choices[0].message.content\n",
    "\n",
    "    # get cook time of recipe\n",
    "    print(\".\", end=\"\")\n",
    "    time = client.chat.completions.create(\n",
    "      model=\"gpt-4o\",\n",
    "      messages=[\n",
    "        {\"role\": \"system\", \"content\": \"You are a JSON reader, skilled at reading JSON and pulling out pieces you are asked for, whether the keys have the exact same name or not.\"},\n",
    "        {\"role\": \"assistant\", \"content\": recipe},\n",
    "        {\"role\": \"user\", \"content\": \"Give me only the time required of that recipe, in the form '{number} minutes'. Remove all quotation marks and replace underscores with a space.\"}\n",
    "      ]\n",
    "    ).choices[0].message.content\n",
    "\n",
    "    # get ingredient list\n",
    "    print(\".\", end=\"\")\n",
    "    ingredients = client.chat.completions.create(\n",
    "      model=\"gpt-4o\",\n",
    "      messages=[\n",
    "        {\"role\": \"system\", \"content\": \"You are a JSON reader, skilled at reading JSON and pulling out pieces you are asked for, whether the keys have the exact same name or not.\"},\n",
    "        {\"role\": \"assistant\", \"content\": recipe},\n",
    "        {\"role\": \"user\", \"content\": \"Give me only the ingredients/amounts of that recipe, with each ingredient on its own line, bulleted in the format 'ingredient, amount'. Remove all quotation marks and replace underscores with a space.\"}\n",
    "      ]\n",
    "    ).choices[0].message.content\n",
    "\n",
    "    # get directions\n",
    "    print(\".\", end=\"\")\n",
    "    steps = client.chat.completions.create(\n",
    "      model=\"gpt-4o\",\n",
    "      messages=[\n",
    "        {\"role\": \"system\", \"content\": \"You are a JSON reader, skilled at reading JSON and pulling out pieces you are asked for, whether the keys have the exact same name or not.\"},\n",
    "        {\"role\": \"assistant\", \"content\": recipe},\n",
    "        {\"role\": \"user\", \"content\": \"Give me only the steps of that recipe, numbered, with each step on its own line. Remove all quotation marks and replace underscores with a space.\"}\n",
    "      ]\n",
    "    ).choices[0].message.content\n",
    "\n",
    "    # format and print parts as full recipe\n",
    "    print(\".\", end=\"\")\n",
    "    image = create_image_ai_steps(client, name, steps)\n",
    "    print(\".\", end=\"\")\n",
    "    print(\"\\nHere's a suggested recipe based on your input:\")\n",
    "    show_image(image)\n",
    "    print(f\"\\n{name}\\nTotal time: {time}\\nServings: {servings}\\n\\nIngredients:\\n{ingredients}\\n\\nDirections:\\n{steps}\")\n",
    "    return name, time, ingredients, steps\n",
    "\n",
    "def to_file(name, time, servings, ingredients, steps):\n",
    "    \"\"\"Prints recipe to file\"\"\"\n",
    "    # save printed recipe text\n",
    "    text = f\"\\n{name}\\nTotal time: {time}\\nServings: {servings}\\n\\nIngredients:\\n{ingredients}\\n\\nDirections:\\n{steps}\"\n",
    "    while True:\n",
    "        file_name = input(\"Enter file name to save the file to (must be a .txt; if it does not exist, the file will be created; if it does, it will be overwritten; make sure the file is not open): \")\n",
    "        try: # ensure file can open\n",
    "            f = open(file_name, \"w\")\n",
    "        except:\n",
    "            print(\"An error ocurred when opening this file. Please try again.\")\n",
    "            continue\n",
    "        else:\n",
    "            pass\n",
    "            \n",
    "        try: # ensure file can write\n",
    "            f.write(text)\n",
    "        except:\n",
    "            print(\"An error ocurred when writing to this file. Please try again.\")\n",
    "        else:\n",
    "            break\n",
    "    return file_name\n",
    "\n",
    "def clear():\n",
    "    \"\"\"Displays the first few lines after clearing output\"\"\"\n",
    "    clear_output()\n",
    "    print(\"Welcome to the AI-powered Cooking Assistant!\\n\")\n",
    "\n",
    "def walkthrough_recipe(name, ingredients, steps):\n",
    "    \"\"\"Walks the user through the recipe step by step.\"\"\"\n",
    "    print(f\"Let's start cooking {name}!\")\n",
    "    print(\"First, get your ingredients together:\")\n",
    "    print(ingredients)\n",
    "    steps = steps.split(\"\\n\")\n",
    "    input(\"Press enter once you have all of your ingredients together.\")\n",
    "    print(\"\\nNow let's cook!\\nPress enter after completing each step to move on to the next.\")\n",
    "    for step in steps:\n",
    "        print(\"\\n\")\n",
    "        input(step)\n",
    "    print(\"\\nRecipe complete! Enjoy your meal!\\n\")"
   ]
  },
  {
   "cell_type": "code",
   "execution_count": 7,
   "id": "c8eda0d3-f29b-4087-9221-613f6dfbd6c0",
   "metadata": {},
   "outputs": [],
   "source": [
    "# Main function to run the cooking assistant\n",
    "def cooking_assistant():\n",
    "    client = OpenAI()\n",
    "    missing = {}\n",
    "    have = {}\n",
    "    \n",
    "    print(\"Welcome to the AI-powered Cooking Assistant!\")\n",
    "\n",
    "    while True:\n",
    "        # User options\n",
    "        print(\"\\nWhat would you like to do?\")\n",
    "        print(\"1. Create a recipe.\")\n",
    "        print(\"2. Upload and modify my own recipe\")\n",
    "        \n",
    "        choice = input(\"Enter your choice (1/2): \").strip()\n",
    "        \n",
    "        if choice == \"1\": # create a recipe\n",
    "            print(\"\\nLet's create a recipe.\")\n",
    "            # Ask for user details\n",
    "            experience_level = input(\"What's your cooking experience level? \")\n",
    "            allergies = input(\"Do you have any allergies? (comma separated): \")\n",
    "            servings = int(input(\"How many servings are you cooking for? (number): \").strip())\n",
    "            \n",
    "            # Ask for desired dish\n",
    "            dish_name = input(\"What do you want to cook? (e.g., chocolate cupcakes, pasta, pastries, dinner): \")\n",
    "            print(\"\\nGenerating recipe..\", end=\"\")\n",
    "            recipe = ai_get_recipe_json(client, dish_name, experience_level, servings, allergies)\n",
    "            break\n",
    "    \n",
    "        elif choice == \"2\": # upload and modify a recipe\n",
    "            print(\"\\nLet's modify your recipe.\")\n",
    "            file_name = input(\"Ensure your recipe is in a .txt file. Enter the file path here: \")\n",
    "            while True:\n",
    "                try: # ensure file can open\n",
    "                    f = open(file_name, \"r\")\n",
    "                except:\n",
    "                    print(\"An error ocurred when opening this file. Please try again.\")\n",
    "                    continue\n",
    "                else:\n",
    "                    pass\n",
    "                    \n",
    "                try: # ensure file can write\n",
    "                    recipe = f.read()\n",
    "                except:\n",
    "                    print(\"An error ocurred when reading this file. Please try again.\")\n",
    "                else:\n",
    "                    break\n",
    "            print(\"File read successfully.\")\n",
    "            servings = input(\"How many servings are you cooking for (same or different from what the original recipe makes)? \")\n",
    "            print(\"Adjusting recipe..\", end=\"\")\n",
    "            recipe = convert_to_json(client, recipe)\n",
    "            recipe = adjust_servings(client, recipe, servings)\n",
    "            dish_name = None\n",
    "            break\n",
    "    \n",
    "        else: # something other than 1 or 2 was entered - tell user and ask again\n",
    "            print(\"Invalid choice. Please enter only the number.\")\n",
    "\n",
    "    # Print recipe\n",
    "    name, time, ingredients, steps = print_recipe_ai(client, recipe, servings)\n",
    "    if dish_name is None:\n",
    "        dish_name = name\n",
    "\n",
    "    # Modify recipe until user likes it\n",
    "    while True:\n",
    "        # User options\n",
    "        print(\"\\nWhat would you like to do next?\")\n",
    "        print(\"1. I have all the ingredients - Start cooking!\")\n",
    "        print(\"2. Print this recipe.\")\n",
    "        print(\"3. I need to buy some ingredients - Create a grocery list.\")\n",
    "        print(\"4. I don't have some ingredients and can't buy them - Modify the recipe.\")\n",
    "        print(\"5. I don't like this recipe - Let's modify or make a new one.\")\n",
    "    \n",
    "        choice = input(\"Enter your choice (1/2/3/4/5): \").strip()\n",
    "    \n",
    "        if choice == \"1\": # start cooking\n",
    "            break\n",
    "\n",
    "        elif choice == \"2\": # print the recipe\n",
    "            print(\"\\nLet's print your recipe.\")\n",
    "            file_name = to_file(name, time, servings, ingredients, steps)\n",
    "            print(f\"Your recipe has been saved to {file_name}\")\n",
    "    \n",
    "        elif choice == \"3\": # create a grocery list\n",
    "            print(\"\\nLet's create your grocery list.\")\n",
    "            list, have = create_grocery_list_ai(client, ingredients, have)\n",
    "            clear()\n",
    "            print(list)\n",
    "            input(\"Press enter once you have purchased all of your ingredients\")\n",
    "    \n",
    "        elif choice == \"4\": # modify recipe\n",
    "            print(\"\\nLet's modify the recipe.\")\n",
    "            recipe, have, missing = modify_recipe_ai(client, ingredients, recipe, have, missing)\n",
    "            clear()\n",
    "            print(\"Generating modified recipe..\", end=\"\")\n",
    "            name, time, ingredients, steps = print_recipe_ai(client, recipe, servings)\n",
    "            input(\"Press enter once you have reviewed the new recipe. If you are still missing ingredients, you can modify again.\")\n",
    "    \n",
    "        elif choice == \"5\": # new recipe\n",
    "            print(\"\\nLet's find another recipe.\")\n",
    "            recipe = new_recipe_ai(client, dish_name, experience_level, servings, allergies, recipe, missing)\n",
    "            clear()\n",
    "            print(\"Generating new recipe..\", end=\"\")\n",
    "            name, time, ingredients, steps = print_recipe_ai(client, recipe, servings)\n",
    "            input(\"Press enter once you have reviewed the new recipe. If you are still want to make changes, you can modify again.\")\n",
    "    \n",
    "        else: # something other than 1, 2, 3, 4, or 5 was entered - tell user and ask again\n",
    "            print(\"Invalid choice. Please enter only the number.\")\n",
    "\n",
    "    clear()\n",
    "    walkthrough_recipe(name, ingredients, steps)\n",
    "\n",
    "    # print recipe if necessary\n",
    "    yes = ('y','Y','yes','Yes','YES')\n",
    "    no = ('n','N','no','No','NO')\n",
    "    while True:\n",
    "        answer = input(\"In case you didn't print your recipe before, would you like to now (y/n)? \")\n",
    "        if answer in yes:\n",
    "            file_name = to_file(name, time, servings, ingredients, steps)\n",
    "            print(f\"Your recipe has been saved to {file_name}\")\n",
    "            break\n",
    "        elif answer in no:\n",
    "            break\n",
    "\n",
    "    # sign off\n",
    "    print(\"\\nNow that you're done cooking, I'm done for now! Come back next time you need help from the AI-powered Cooking Assistant!\")"
   ]
  },
  {
   "cell_type": "code",
   "execution_count": 9,
   "id": "2409823a-5488-4083-9275-dd9b2f1d294b",
   "metadata": {},
   "outputs": [
    {
     "name": "stdout",
     "output_type": "stream",
     "text": [
      "Welcome to the AI-powered Cooking Assistant!\n",
      "\n",
      "Let's start cooking Grilled Lemon Herb Chicken with Quinoa and Blistered Cherry Tomatoes!\n",
      "First, get your ingredients together:\n",
      "- boneless skinless chicken breasts, 10 (about 5 pounds)\n",
      "- olive oil, 10 tablespoons\n",
      "- lemon juice, 4 large lemons\n",
      "- garlic, 10 cloves, minced\n",
      "- dried rosemary, 5 teaspoons (or use 10 sprigs fresh thyme instead)\n",
      "- fresh thyme, 10 sprigs, finely chopped\n",
      "- sea salt, 4 teaspoons\n",
      "- black pepper, 4 teaspoons\n",
      "- quinoa, 5 cups\n",
      "- chicken stock, 10 cups\n",
      "- olive oil, 5 tablespoons\n",
      "- garlic, 5 cloves, minced\n",
      "- sea salt, 2 teaspoons\n",
      "- black pepper, 2 teaspoons\n",
      "- fresh parsley, 2 cups, chopped\n",
      "- cherry tomatoes, 10 cups\n",
      "- olive oil, 6 tablespoons\n",
      "- sea salt, 2 teaspoons\n",
      "- black pepper, 2 teaspoons\n",
      "- balsamic vinegar, 6 tablespoons\n",
      "- fresh basil, 1 cup, finely chopped\n"
     ]
    },
    {
     "name": "stdin",
     "output_type": "stream",
     "text": [
      "Press enter once you have all of your ingredients together. \n"
     ]
    },
    {
     "name": "stdout",
     "output_type": "stream",
     "text": [
      "\n",
      "Now let's cook!\n",
      "Press enter after completing each step to move on to the next.\n",
      "\n",
      "\n"
     ]
    },
    {
     "name": "stdin",
     "output_type": "stream",
     "text": [
      "1. Pound the chicken breasts to an even thickness using a meat tenderizer. \n"
     ]
    },
    {
     "name": "stdout",
     "output_type": "stream",
     "text": [
      "\n",
      "\n"
     ]
    },
    {
     "name": "stdin",
     "output_type": "stream",
     "text": [
      "2. In a large bowl, whisk together olive oil, lemon juice, minced garlic, dried rosemary (or extra fresh thyme), chopped thyme, sea salt, and black pepper. \n"
     ]
    },
    {
     "name": "stdout",
     "output_type": "stream",
     "text": [
      "\n",
      "\n"
     ]
    },
    {
     "name": "stdin",
     "output_type": "stream",
     "text": [
      "3. Add the chicken breasts to the marinade, ensuring they are evenly coated. Let them marinate for at least 10 minutes while prepping the other ingredients. \n"
     ]
    },
    {
     "name": "stdout",
     "output_type": "stream",
     "text": [
      "\n",
      "\n"
     ]
    },
    {
     "name": "stdin",
     "output_type": "stream",
     "text": [
      "4. Preheat the grill to medium-high heat. \n"
     ]
    },
    {
     "name": "stdout",
     "output_type": "stream",
     "text": [
      "\n",
      "\n"
     ]
    },
    {
     "name": "stdin",
     "output_type": "stream",
     "text": [
      "5. Grill the chicken breasts for 5-7 minutes on each side, or until they are fully cooked through and have nice grill marks. \n"
     ]
    },
    {
     "name": "stdout",
     "output_type": "stream",
     "text": [
      "\n",
      "\n"
     ]
    },
    {
     "name": "stdin",
     "output_type": "stream",
     "text": [
      "6. Rinse the quinoa thoroughly under cold water. \n"
     ]
    },
    {
     "name": "stdout",
     "output_type": "stream",
     "text": [
      "\n",
      "\n"
     ]
    },
    {
     "name": "stdin",
     "output_type": "stream",
     "text": [
      "7. In a large pot, bring the chicken stock to a boil. \n"
     ]
    },
    {
     "name": "stdout",
     "output_type": "stream",
     "text": [
      "\n",
      "\n"
     ]
    },
    {
     "name": "stdin",
     "output_type": "stream",
     "text": [
      "8. Add quinoa to the boiling chicken stock. Reduce heat to low, cover, and simmer for 15 minutes or until the quinoa is tender and the liquid is absorbed. \n"
     ]
    },
    {
     "name": "stdout",
     "output_type": "stream",
     "text": [
      "\n",
      "\n"
     ]
    },
    {
     "name": "stdin",
     "output_type": "stream",
     "text": [
      "9. Remove from heat and fluff with a fork. \n"
     ]
    },
    {
     "name": "stdout",
     "output_type": "stream",
     "text": [
      "\n",
      "\n"
     ]
    },
    {
     "name": "stdin",
     "output_type": "stream",
     "text": [
      "10. In a small skillet, heat olive oil over medium heat. Add minced garlic and sauté until fragrant, about 1 minute. \n"
     ]
    },
    {
     "name": "stdout",
     "output_type": "stream",
     "text": [
      "\n",
      "\n"
     ]
    },
    {
     "name": "stdin",
     "output_type": "stream",
     "text": [
      "11. Stir the garlic mixture into the cooked quinoa. Season with sea salt and black pepper to taste. \n"
     ]
    },
    {
     "name": "stdout",
     "output_type": "stream",
     "text": [
      "\n",
      "\n"
     ]
    },
    {
     "name": "stdin",
     "output_type": "stream",
     "text": [
      "12. Mix in the chopped fresh parsley before serving. \n"
     ]
    },
    {
     "name": "stdout",
     "output_type": "stream",
     "text": [
      "\n",
      "\n"
     ]
    },
    {
     "name": "stdin",
     "output_type": "stream",
     "text": [
      "13. In a large skillet, heat olive oil over medium-high heat. \n"
     ]
    },
    {
     "name": "stdout",
     "output_type": "stream",
     "text": [
      "\n",
      "\n"
     ]
    },
    {
     "name": "stdin",
     "output_type": "stream",
     "text": [
      "14. Add cherry tomatoes to the skillet and cook, stirring occasionally, until they are blistered and slightly charred, about 5-7 minutes. h\n"
     ]
    },
    {
     "name": "stdout",
     "output_type": "stream",
     "text": [
      "\n",
      "\n"
     ]
    },
    {
     "name": "stdin",
     "output_type": "stream",
     "text": [
      "15. Season with sea salt and black pepper. \n"
     ]
    },
    {
     "name": "stdout",
     "output_type": "stream",
     "text": [
      "\n",
      "\n"
     ]
    },
    {
     "name": "stdin",
     "output_type": "stream",
     "text": [
      "16. Remove from heat and drizzle with balsamic vinegar. Stir in the chopped fresh basil. \n"
     ]
    },
    {
     "name": "stdout",
     "output_type": "stream",
     "text": [
      "\n",
      "\n"
     ]
    },
    {
     "name": "stdin",
     "output_type": "stream",
     "text": [
      "17. On each plate, serve a portion of quinoa. \n"
     ]
    },
    {
     "name": "stdout",
     "output_type": "stream",
     "text": [
      "\n",
      "\n"
     ]
    },
    {
     "name": "stdin",
     "output_type": "stream",
     "text": [
      "18. Place a grilled chicken breast on top of the quinoa. \n"
     ]
    },
    {
     "name": "stdout",
     "output_type": "stream",
     "text": [
      "\n",
      "\n"
     ]
    },
    {
     "name": "stdin",
     "output_type": "stream",
     "text": [
      "19. Arrange a generous serving of blistered cherry tomatoes next to the chicken and quinoa. \n"
     ]
    },
    {
     "name": "stdout",
     "output_type": "stream",
     "text": [
      "\n",
      "\n"
     ]
    },
    {
     "name": "stdin",
     "output_type": "stream",
     "text": [
      "20. Garnish with additional fresh parsley or basil if desired. Serve immediately. \n"
     ]
    },
    {
     "name": "stdout",
     "output_type": "stream",
     "text": [
      "\n",
      "Recipe complete! Enjoy your meal!\n",
      "\n"
     ]
    },
    {
     "name": "stdin",
     "output_type": "stream",
     "text": [
      "In case you didn't print your recipe before, would you like to now (y/n)?  y\n",
      "Enter file name to save the file to (must be a .txt; if it does not exist, the file will be created; if it does, it will be overwritten; make sure the file is not open):  recipe.txt\n"
     ]
    },
    {
     "name": "stdout",
     "output_type": "stream",
     "text": [
      "Your recipe has been saved to recipe.txt\n",
      "\n",
      "Now that you're done cooking, I'm done for now! Come back next time you need help from the AI-powered Cooking Assistant!\n"
     ]
    }
   ],
   "source": [
    "#### Run the cooking assistant\n",
    "if __name__ == \"__main__\":\n",
    "    cooking_assistant()"
   ]
  },
  {
   "cell_type": "code",
   "execution_count": null,
   "id": "41f575b8-7807-4aa7-8f7b-1910706f19c3",
   "metadata": {},
   "outputs": [],
   "source": []
  }
 ],
 "metadata": {
  "kernelspec": {
   "display_name": "myenv",
   "language": "python",
   "name": "myenv"
  },
  "language_info": {
   "codemirror_mode": {
    "name": "ipython",
    "version": 3
   },
   "file_extension": ".py",
   "mimetype": "text/x-python",
   "name": "python",
   "nbconvert_exporter": "python",
   "pygments_lexer": "ipython3",
   "version": "3.12.3"
  }
 },
 "nbformat": 4,
 "nbformat_minor": 5
}
